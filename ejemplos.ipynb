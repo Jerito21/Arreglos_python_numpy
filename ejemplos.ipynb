{
  "nbformat": 4,
  "nbformat_minor": 0,
  "metadata": {
    "colab": {
      "provenance": [],
      "authorship_tag": "ABX9TyMFHnDwq4Ujjx/c5rCJHWYs",
      "include_colab_link": true
    },
    "kernelspec": {
      "name": "python3",
      "display_name": "Python 3"
    },
    "language_info": {
      "name": "python"
    }
  },
  "cells": [
    {
      "cell_type": "markdown",
      "metadata": {
        "id": "view-in-github",
        "colab_type": "text"
      },
      "source": [
        "<a href=\"https://colab.research.google.com/github/Jerito21/Arreglos_python_numpy/blob/main/ejemplos.ipynb\" target=\"_parent\"><img src=\"https://colab.research.google.com/assets/colab-badge.svg\" alt=\"Open In Colab\"/></a>"
      ]
    },
    {
      "cell_type": "code",
      "execution_count": 1,
      "metadata": {
        "colab": {
          "base_uri": "https://localhost:8080/"
        },
        "id": "3YjE4P99DjNg",
        "outputId": "763bf305-587a-45bb-b133-bb2e1b6cab04"
      },
      "outputs": [
        {
          "output_type": "stream",
          "name": "stdout",
          "text": [
            "vector original :  [ 1  2  3  4  5  6  7  8  9 10]\n"
          ]
        }
      ],
      "source": [
        "import numpy as np\n",
        "\n",
        "\n",
        "vector = np.array([1, 2, 3, 4, 5, 6, 7 , 8, 9, 10])\n",
        "print(\"vector original : \", vector)\n"
      ]
    },
    {
      "cell_type": "markdown",
      "metadata": {
        "id": "6c0702bf"
      },
      "source": [
        "Aquí tienes más ejemplos de cómo puedes trabajar con el vector `vector` que creaste:"
      ]
    },
    {
      "cell_type": "code",
      "metadata": {
        "id": "b2325f9c"
      },
      "source": [
        "# Accediendo a elementos individuales\n",
        "print(\"Primer elemento:\", vector[0])\n",
        "print(\"Tercer elemento:\", vector[2])\n",
        "print(\"Último elemento:\", vector[-1])"
      ],
      "execution_count": null,
      "outputs": []
    },
    {
      "cell_type": "code",
      "metadata": {
        "id": "459a05c1"
      },
      "source": [
        "# Accediendo a un rango de elementos (slicing)\n",
        "print(\"Elementos del 3 al 7:\", vector[2:7])\n",
        "print(\"Primeros 5 elementos:\", vector[:5])\n",
        "print(\"Elementos desde el 6 hasta el final:\", vector[5:])"
      ],
      "execution_count": null,
      "outputs": []
    },
    {
      "cell_type": "code",
      "metadata": {
        "id": "8270b370"
      },
      "source": [
        "# Realizando operaciones matemáticas con el vector\n",
        "print(\"Vector + 5:\", vector + 5)\n",
        "print(\"Vector * 2:\", vector * 2)\n",
        "print(\"Vector al cuadrado:\", vector ** 2)"
      ],
      "execution_count": null,
      "outputs": []
    },
    {
      "cell_type": "code",
      "metadata": {
        "id": "e207e107"
      },
      "source": [
        "# Usando funciones de NumPy con el vector\n",
        "print(\"Suma de todos los elementos:\", np.sum(vector))\n",
        "print(\"Promedio de los elementos:\", np.mean(vector))\n",
        "print(\"Valor máximo:\", np.max(vector))\n",
        "print(\"Valor mínimo:\", np.min(vector))"
      ],
      "execution_count": null,
      "outputs": []
    },
    {
      "cell_type": "code",
      "metadata": {
        "id": "db1e10b8"
      },
      "source": [
        "# Cambiando la forma del vector (reshape)\n",
        "# Primero, asegúrate de que el número de elementos sea compatible con la nueva forma\n",
        "if vector.size == 10:\n",
        "  vector_reshaped = vector.reshape(2, 5)\n",
        "  print(\"Vector redimensionado (2x5):\\n\", vector_reshaped)\n",
        "else:\n",
        "  print(\"No se puede redimensionar el vector a (2, 5) porque el número de elementos no es 10.\")"
      ],
      "execution_count": null,
      "outputs": []
    }
  ]
}