{
  "nbformat": 4,
  "nbformat_minor": 0,
  "metadata": {
    "colab": {
      "provenance": [],
      "authorship_tag": "ABX9TyMWl2mvZYJIUulir2DPx+W/",
      "include_colab_link": true
    },
    "kernelspec": {
      "name": "python3",
      "display_name": "Python 3"
    },
    "language_info": {
      "name": "python"
    }
  },
  "cells": [
    {
      "cell_type": "markdown",
      "metadata": {
        "id": "view-in-github",
        "colab_type": "text"
      },
      "source": [
        "<a href=\"https://colab.research.google.com/github/Jerito21/Arreglos_python_numpy/blob/main/Vectores.ipynb\" target=\"_parent\"><img src=\"https://colab.research.google.com/assets/colab-badge.svg\" alt=\"Open In Colab\"/></a>"
      ]
    },
    {
      "cell_type": "code",
      "execution_count": null,
      "metadata": {
        "colab": {
          "base_uri": "https://localhost:8080/"
        },
        "id": "Qm_GhRcWV9_m",
        "outputId": "264ddaf8-e33e-4746-c415-b885997a1bfb"
      },
      "outputs": [
        {
          "output_type": "stream",
          "name": "stdout",
          "text": [
            "vector original :  [ 1  2  3  4  5  6  7  8  9 10]\n",
            "3\n",
            "vector de zeros :  [0. 0. 0. 0. 0.]\n",
            "vector de unos :  [1. 1. 1. 1. 1.]\n",
            "vector de rango :  [1 2 3 4 5 6 7 8 9]\n",
            "vector de rango con 5 elementos :  [ 1.    3.25  5.5   7.75 10.  ]\n",
            "vector de numeros aleatorios :  [0.17624964 0.40551691 0.08006759 0.82449318 0.4478449  0.68784483\n",
            " 0.12719088 0.43166323 0.15854193 0.3267602 ]\n",
            "vector de numeros aleatorios entre 1 y 10 :  [3 4 3 3 6 7 3 8 9 2]\n"
          ]
        }
      ],
      "source": [
        "import numpy as np\n",
        "#vectores siempre empieza desde 0\n",
        "vector = np.array([1, 2, 3, 4, 5, 6, 7 , 8, 9, 10])\n",
        "print(\"vector original : \", vector)\n",
        "print(vector[2]) # 3 imprime el valor en la posición 2 osea el 3\n",
        "\"\"\"los vectores no son como las listas, no tienen un metodo append() para agregar elemento no tienen un metodo pop para eliminar elementos pero si tienen un metodo reshape() para cambiar la forma del vector, adicionalmente despues de ser creado un vector no se puede cambiar su tamaño\"\"\"\n",
        "\n",
        "vector1 = np.zeros(5)\n",
        "print(\"vector de zeros : \", vector1)\n",
        "vector2 = np.ones(5)\n",
        "print(\"vector de unos : \", vector2)\n",
        "vector3 = np.arange(1,10)\n",
        "print(\"vector de rango : \", vector3)\n",
        "vector4 = np.linspace(1,10,5)\n",
        "print(\"vector de rango con 5 elementos : \", vector4) # 1,\n",
        "vector5 = np.random.rand(10)\n",
        "print(\"vector de numeros aleatorios : \", vector5) # 1, 0.\n",
        "vector6 = np.random.randint(1,10,10) #vector de numeros aleatorios entre 1 y 10\n",
        "print(\"vector de numeros aleatorios entre 1 y 10 : \", vector6)\n"
      ]
    },
    {
      "cell_type": "markdown",
      "source": [
        "los vectores son reserva de memoria para almacenar informacion, solo puede ser de un tipo, si es numerico, si es texto, debe continuar siendo texto, esto aplica para las matrices. Los arreglos son identificadores estaticos, esto significa que es otra forma de definir, variables y constantes"
      ],
      "metadata": {
        "id": "RMC6Ryj7WTRC"
      }
    }
  ]
}